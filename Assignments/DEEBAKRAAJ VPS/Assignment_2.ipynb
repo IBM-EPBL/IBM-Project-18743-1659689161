{
  "cells": [
    {
      "cell_type": "code",
      "execution_count": 8,
      "id": "672487d2",
      "metadata": {
        "id": "672487d2"
      },
      "outputs": [],
      "source": [
        "import numpy as np\n",
        "import pandas as pd\n",
        "import matplotlib.pyplot as plt\n",
        "import seaborn as sns\n",
        "import sklearn\n"
      ]
    },
    {
      "cell_type": "markdown",
      "id": "9cd832ae",
      "metadata": {
        "id": "9cd832ae"
      },
      "source": [
        "# 2. Loading the dataset"
      ]
    },
    {
      "cell_type": "code",
      "source": [
        "from google.colab import drive\n",
        "drive.mount('/content/drive')"
      ],
      "metadata": {
        "colab": {
          "base_uri": "https://localhost:8080/"
        },
        "id": "9b4lEQy2L3VV",
        "outputId": "b743b8ae-aaa1-4aa1-aaa2-ba8b19d4cd15"
      },
      "id": "9b4lEQy2L3VV",
      "execution_count": 9,
      "outputs": [
        {
          "output_type": "stream",
          "name": "stdout",
          "text": [
            "Drive already mounted at /content/drive; to attempt to forcibly remount, call drive.mount(\"/content/drive\", force_remount=True).\n"
          ]
        }
      ]
    },
    {
      "cell_type": "code",
      "execution_count": 10,
      "id": "93e4e2ea",
      "metadata": {
        "id": "93e4e2ea"
      },
      "outputs": [],
      "source": [
        "data = pd.read_csv(\"/content/drive/MyDrive/Colab Notebooks/Churn_Modelling.csv\")"
      ]
    },
    {
      "cell_type": "markdown",
      "id": "594719ef",
      "metadata": {
        "id": "594719ef"
      },
      "source": [
        "# 3. Univariate Analysis"
      ]
    },
    {
      "cell_type": "code",
      "execution_count": 11,
      "id": "d08296fd",
      "metadata": {
        "id": "d08296fd",
        "outputId": "2d2755a3-3920-48f7-96e4-bff3005983fc",
        "colab": {
          "base_uri": "https://localhost:8080/",
          "height": 351
        }
      },
      "outputs": [
        {
          "output_type": "stream",
          "name": "stderr",
          "text": [
            "/usr/local/lib/python3.7/dist-packages/seaborn/distributions.py:2619: FutureWarning: `distplot` is a deprecated function and will be removed in a future version. Please adapt your code to use either `displot` (a figure-level function with similar flexibility) or `histplot` (an axes-level function for histograms).\n",
            "  warnings.warn(msg, FutureWarning)\n"
          ]
        },
        {
          "output_type": "execute_result",
          "data": {
            "text/plain": [
              "<matplotlib.axes._subplots.AxesSubplot at 0x7f82491cf510>"
            ]
          },
          "metadata": {},
          "execution_count": 11
        },
        {
          "output_type": "display_data",
          "data": {
            "text/plain": [
              "<Figure size 432x288 with 1 Axes>"
            ],
            "image/png": "[encoded data removed]"
          },
          "metadata": {
            "needs_background": "light"
          }
        }
      ],
      "source": [
        "sns.distplot(data['Tenure'])"
      ]
    },
    {
      "cell_type": "code",
      "execution_count": 12,
      "id": "0fa3c0de",
      "metadata": {
        "id": "0fa3c0de",
        "outputId": "39d1fb52-0f78-400a-ecee-3396964d2917",
        "colab": {
          "base_uri": "https://localhost:8080/",
          "height": 296
        }
      },
      "outputs": [
        {
          "output_type": "execute_result",
          "data": {
            "text/plain": [
              "<matplotlib.axes._subplots.AxesSubplot at 0x7f8248fe6090>"
            ]
          },
          "metadata": {},
          "execution_count": 12
        },
        {
          "output_type": "display_data",
          "data": {
            "text/plain": [
              "<Figure size 432x288 with 1 Axes>"
            ],
            "image/png": "[encoded data removed]"
          },
          "metadata": {
            "needs_background": "light"
          }
        }
      ],
      "source": [
        "sns.histplot(data['Tenure'])"
      ]
    },
    {
      "cell_type": "code",
      "execution_count": 13,
      "id": "c833c418",
      "metadata": {
        "id": "c833c418",
        "outputId": "be049711-d321-4354-f497-045411317943",
        "colab": {
          "base_uri": "https://localhost:8080/",
          "height": 351
        }
      },
      "outputs": [
        {
          "output_type": "stream",
          "name": "stderr",
          "text": [
            "/usr/local/lib/python3.7/dist-packages/seaborn/_decorators.py:43: FutureWarning: Pass the following variable as a keyword arg: x. From version 0.12, the only valid positional argument will be `data`, and passing other arguments without an explicit keyword will result in an error or misinterpretation.\n",
            "  FutureWarning\n"
          ]
        },
        {
          "output_type": "execute_result",
          "data": {
            "text/plain": [
              "<matplotlib.axes._subplots.AxesSubplot at 0x7f8248b0ad50>"
            ]
          },
          "metadata": {},
          "execution_count": 13
        },
        {
          "output_type": "display_data",
          "data": {
            "text/plain": [
              "<Figure size 432x288 with 1 Axes>"
            ],
            "image/png": "[encoded data removed]"
          },
          "metadata": {
            "needs_background": "light"
          }
        }
      ],
      "source": [
        "sns.boxplot(data['Tenure'])"
      ]
    },
    {
      "cell_type": "markdown",
      "id": "66d02809",
      "metadata": {
        "id": "66d02809"
      },
      "source": [
        "# 3. Bivariate Analysis"
      ]
    },
    {
      "cell_type": "code",
      "execution_count": 14,
      "id": "b7a9edd9",
      "metadata": {
        "id": "b7a9edd9",
        "outputId": "372a54cf-9ab6-4279-a518-71c111eb8bc4",
        "colab": {
          "base_uri": "https://localhost:8080/",
          "height": 351
        }
      },
      "outputs": [
        {
          "output_type": "stream",
          "name": "stderr",
          "text": [
            "/usr/local/lib/python3.7/dist-packages/seaborn/_decorators.py:43: FutureWarning: Pass the following variables as keyword args: x, y. From version 0.12, the only valid positional argument will be `data`, and passing other arguments without an explicit keyword will result in an error or misinterpretation.\n",
            "  FutureWarning\n"
          ]
        },
        {
          "output_type": "execute_result",
          "data": {
            "text/plain": [
              "<matplotlib.axes._subplots.AxesSubplot at 0x7f8248a607d0>"
            ]
          },
          "metadata": {},
          "execution_count": 14
        },
        {
          "output_type": "display_data",
          "data": {
            "text/plain": [
              "<Figure size 432x288 with 1 Axes>"
            ],
            "image/png": "[encoded data removed]"
          },
          "metadata": {
            "needs_background": "light"
          }
        }
      ],
      "source": [
        "sns.lineplot(data['Geography'], data['HasCrCard'])"
      ]
    },
    {
      "cell_type": "code",
      "execution_count": 15,
      "id": "0484fec2",
      "metadata": {
        "id": "0484fec2",
        "outputId": "3cdd1077-89b0-428b-eb96-c3823ef653fc",
        "colab": {
          "base_uri": "https://localhost:8080/",
          "height": 351
        }
      },
      "outputs": [
        {
          "output_type": "stream",
          "name": "stderr",
          "text": [
            "/usr/local/lib/python3.7/dist-packages/seaborn/_decorators.py:43: FutureWarning: Pass the following variables as keyword args: x, y. From version 0.12, the only valid positional argument will be `data`, and passing other arguments without an explicit keyword will result in an error or misinterpretation.\n",
            "  FutureWarning\n"
          ]
        },
        {
          "output_type": "execute_result",
          "data": {
            "text/plain": [
              "<matplotlib.axes._subplots.AxesSubplot at 0x7f8248a77a90>"
            ]
          },
          "metadata": {},
          "execution_count": 15
        },
        {
          "output_type": "display_data",
          "data": {
            "text/plain": [
              "<Figure size 432x288 with 1 Axes>"
            ],
            "image/png": "[encoded data removed]"
          },
          "metadata": {
            "needs_background": "light"
          }
        }
      ],
      "source": [
        "sns.barplot(data['Geography'], data['HasCrCard'])"
      ]
    },
    {
      "cell_type": "code",
      "execution_count": 16,
      "id": "19d0df1b",
      "metadata": {
        "id": "19d0df1b",
        "outputId": "51365bd7-c764-417d-b1a7-d32aaf606349",
        "colab": {
          "base_uri": "https://localhost:8080/",
          "height": 351
        }
      },
      "outputs": [
        {
          "output_type": "stream",
          "name": "stderr",
          "text": [
            "/usr/local/lib/python3.7/dist-packages/seaborn/_decorators.py:43: FutureWarning: Pass the following variables as keyword args: x, y. From version 0.12, the only valid positional argument will be `data`, and passing other arguments without an explicit keyword will result in an error or misinterpretation.\n",
            "  FutureWarning\n"
          ]
        },
        {
          "output_type": "execute_result",
          "data": {
            "text/plain": [
              "<matplotlib.axes._subplots.AxesSubplot at 0x7f824897b750>"
            ]
          },
          "metadata": {},
          "execution_count": 16
        },
        {
          "output_type": "display_data",
          "data": {
            "text/plain": [
              "<Figure size 432x288 with 1 Axes>"
            ],
            "image/png": "[encoded data removed]"
          },
          "metadata": {
            "needs_background": "light"
          }
        }
      ],
      "source": [
        "sns.scatterplot(data['Geography'], data['HasCrCard'])"
      ]
    },
    {
      "cell_type": "code",
      "execution_count": 17,
      "id": "6ecaa663",
      "metadata": {
        "id": "6ecaa663",
        "outputId": "b4d26f86-58e2-4895-ba95-daaca6b71070",
        "colab": {
          "base_uri": "https://localhost:8080/",
          "height": 351
        }
      },
      "outputs": [
        {
          "output_type": "stream",
          "name": "stderr",
          "text": [
            "/usr/local/lib/python3.7/dist-packages/seaborn/_decorators.py:43: FutureWarning: Pass the following variables as keyword args: x, y. From version 0.12, the only valid positional argument will be `data`, and passing other arguments without an explicit keyword will result in an error or misinterpretation.\n",
            "  FutureWarning\n"
          ]
        },
        {
          "output_type": "execute_result",
          "data": {
            "text/plain": [
              "<matplotlib.axes._subplots.AxesSubplot at 0x7f82488dc290>"
            ]
          },
          "metadata": {},
          "execution_count": 17
        },
        {
          "output_type": "display_data",
          "data": {
            "text/plain": [
              "<Figure size 432x288 with 1 Axes>"
            ],
            "image/png": "[encoded data removed]"
          },
          "metadata": {
            "needs_background": "light"
          }
        }
      ],
      "source": [
        "sns.scatterplot(data['Age'], data['Geography'])"
      ]
    },
    {
      "cell_type": "markdown",
      "id": "bf2d8e33",
      "metadata": {
        "id": "bf2d8e33"
      },
      "source": [
        "# 3. Multivariate Analysis"
      ]
    },
    {
      "cell_type": "code",
      "execution_count": 18,
      "id": "036e70e2",
      "metadata": {
        "id": "036e70e2",
        "outputId": "7ff70e80-691e-4539-9014-78cd1c627b77",
        "colab": {
          "base_uri": "https://localhost:8080/",
          "height": 351
        }
      },
      "outputs": [
        {
          "output_type": "stream",
          "name": "stderr",
          "text": [
            "/usr/local/lib/python3.7/dist-packages/seaborn/_decorators.py:43: FutureWarning: Pass the following variables as keyword args: x, y. From version 0.12, the only valid positional argument will be `data`, and passing other arguments without an explicit keyword will result in an error or misinterpretation.\n",
            "  FutureWarning\n"
          ]
        },
        {
          "output_type": "execute_result",
          "data": {
            "text/plain": [
              "<matplotlib.axes._subplots.AxesSubplot at 0x7f82488cb2d0>"
            ]
          },
          "metadata": {},
          "execution_count": 18
        },
        {
          "output_type": "display_data",
          "data": {
            "text/plain": [
              "<Figure size 432x288 with 1 Axes>"
            ],
            "image/png": "[encoded data removed]"
          },
          "metadata": {
            "needs_background": "light"
          }
        }
      ],
      "source": [
        "sns.scatterplot(data['Age'], data['Exited'], hue = data['Age'])"
      ]
    },
    {
      "cell_type": "code",
      "execution_count": 19,
      "id": "c57e512d",
      "metadata": {
        "id": "c57e512d",
        "outputId": "b2bb8056-1c6f-40ab-db9f-932626492a70",
        "colab": {
          "base_uri": "https://localhost:8080/",
          "height": 351
        }
      },
      "outputs": [
        {
          "output_type": "stream",
          "name": "stderr",
          "text": [
            "/usr/local/lib/python3.7/dist-packages/seaborn/_decorators.py:43: FutureWarning: Pass the following variables as keyword args: x, y. From version 0.12, the only valid positional argument will be `data`, and passing other arguments without an explicit keyword will result in an error or misinterpretation.\n",
            "  FutureWarning\n"
          ]
        },
        {
          "output_type": "execute_result",
          "data": {
            "text/plain": [
              "<matplotlib.axes._subplots.AxesSubplot at 0x7f82487fac90>"
            ]
          },
          "metadata": {},
          "execution_count": 19
        },
        {
          "output_type": "display_data",
          "data": {
            "text/plain": [
              "<Figure size 432x288 with 1 Axes>"
            ],
            "image/png": "[encoded data removed]"
          },
          "metadata": {
            "needs_background": "light"
          }
        }
      ],
      "source": [
        "sns.scatterplot(data['Gender'], data['NumOfProducts'], hue = data['Gender'])"
      ]
    },
    {
      "cell_type": "code",
      "execution_count": 20,
      "id": "89ef1741",
      "metadata": {
        "id": "89ef1741",
        "outputId": "22bb20d8-523f-475b-e33b-41684ab7e9c6",
        "colab": {
          "base_uri": "https://localhost:8080/",
          "height": 351
        }
      },
      "outputs": [
        {
          "output_type": "stream",
          "name": "stderr",
          "text": [
            "/usr/local/lib/python3.7/dist-packages/seaborn/_decorators.py:43: FutureWarning: Pass the following variables as keyword args: x, y. From version 0.12, the only valid positional argument will be `data`, and passing other arguments without an explicit keyword will result in an error or misinterpretation.\n",
            "  FutureWarning\n"
          ]
        },
        {
          "output_type": "execute_result",
          "data": {
            "text/plain": [
              "<matplotlib.axes._subplots.AxesSubplot at 0x7f82486f4c50>"
            ]
          },
          "metadata": {},
          "execution_count": 20
        },
        {
          "output_type": "display_data",
          "data": {
            "text/plain": [
              "<Figure size 432x288 with 1 Axes>"
            ],
            "image/png": "[encoded data removed]"
          },
          "metadata": {
            "needs_background": "light"
          }
        }
      ],
      "source": [
        "sns.scatterplot(data['Gender'], data['Age'], hue = data['Gender'])"
      ]
    },
    {
      "cell_type": "code",
      "execution_count": null,
      "id": "4d8a49fb",
      "metadata": {
        "id": "4d8a49fb"
      },
      "outputs": [],
      "source": [
        "sns.pairplot(data)"
      ]
    },
    {
      "cell_type": "markdown",
      "id": "d950bdc6",
      "metadata": {
        "id": "d950bdc6"
      },
      "source": [
        "# 4. Descriptive Statistics"
      ]
    },
    {
      "cell_type": "markdown",
      "id": "552315e9",
      "metadata": {
        "id": "552315e9"
      },
      "source": [
        "## Central Tendency"
      ]
    },
    {
      "cell_type": "code",
      "execution_count": null,
      "id": "9410f0a5",
      "metadata": {
        "id": "9410f0a5"
      },
      "outputs": [],
      "source": [
        "data.mean()"
      ]
    },
    {
      "cell_type": "code",
      "execution_count": null,
      "id": "0ac9ac41",
      "metadata": {
        "id": "0ac9ac41"
      },
      "outputs": [],
      "source": [
        "data.median()"
      ]
    },
    {
      "cell_type": "code",
      "execution_count": null,
      "id": "8b69e111",
      "metadata": {
        "id": "8b69e111"
      },
      "outputs": [],
      "source": [
        "data.mode()"
      ]
    },
    {
      "cell_type": "markdown",
      "id": "4a2506ee",
      "metadata": {
        "id": "4a2506ee"
      },
      "source": [
        "##  Dispersion of Data"
      ]
    },
    {
      "cell_type": "code",
      "execution_count": null,
      "id": "870c323d",
      "metadata": {
        "id": "870c323d"
      },
      "outputs": [],
      "source": [
        "sns.boxplot(data['CreditScore'])"
      ]
    },
    {
      "cell_type": "markdown",
      "id": "2fc26a6a",
      "metadata": {
        "id": "2fc26a6a"
      },
      "source": [
        "### Interquartile Range"
      ]
    },
    {
      "cell_type": "code",
      "execution_count": null,
      "id": "6a6ac630",
      "metadata": {
        "id": "6a6ac630"
      },
      "outputs": [],
      "source": [
        "q = data.quantile([0.75, 0.25])"
      ]
    },
    {
      "cell_type": "code",
      "execution_count": null,
      "id": "a964a2fe",
      "metadata": {
        "id": "a964a2fe"
      },
      "outputs": [],
      "source": [
        "q"
      ]
    },
    {
      "cell_type": "code",
      "execution_count": null,
      "id": "0591a8e7",
      "metadata": {
        "id": "0591a8e7"
      },
      "outputs": [],
      "source": [
        "iqr = q.iloc[0] - q.iloc[1]"
      ]
    },
    {
      "cell_type": "code",
      "execution_count": null,
      "id": "5ddd1795",
      "metadata": {
        "id": "5ddd1795"
      },
      "outputs": [],
      "source": [
        "iqr"
      ]
    },
    {
      "cell_type": "code",
      "execution_count": null,
      "id": "e27bac22",
      "metadata": {
        "id": "e27bac22"
      },
      "outputs": [],
      "source": [
        "u = q.iloc[0] + 1.5*iqr \n"
      ]
    },
    {
      "cell_type": "code",
      "execution_count": null,
      "id": "6cb57306",
      "metadata": {
        "id": "6cb57306"
      },
      "outputs": [],
      "source": [
        "u"
      ]
    },
    {
      "cell_type": "code",
      "execution_count": null,
      "id": "04f5a46c",
      "metadata": {
        "id": "04f5a46c"
      },
      "outputs": [],
      "source": [
        "l = q.iloc[1] - 1.5*iqr\n"
      ]
    },
    {
      "cell_type": "code",
      "execution_count": null,
      "id": "4f8c00c7",
      "metadata": {
        "id": "4f8c00c7"
      },
      "outputs": [],
      "source": [
        "l"
      ]
    },
    {
      "cell_type": "markdown",
      "id": "57b09950",
      "metadata": {
        "id": "57b09950"
      },
      "source": [
        "### Variance"
      ]
    },
    {
      "cell_type": "code",
      "execution_count": null,
      "id": "72f346da",
      "metadata": {
        "id": "72f346da"
      },
      "outputs": [],
      "source": [
        "data.var()"
      ]
    },
    {
      "cell_type": "markdown",
      "id": "0487b7b1",
      "metadata": {
        "id": "0487b7b1"
      },
      "source": [
        "### Standard Deviation"
      ]
    },
    {
      "cell_type": "code",
      "execution_count": null,
      "id": "60581640",
      "metadata": {
        "id": "60581640"
      },
      "outputs": [],
      "source": [
        "data.std()"
      ]
    },
    {
      "cell_type": "code",
      "execution_count": null,
      "id": "30f44d2c",
      "metadata": {
        "id": "30f44d2c"
      },
      "outputs": [],
      "source": [
        "data.notnull()"
      ]
    },
    {
      "cell_type": "markdown",
      "id": "ef793bca",
      "metadata": {
        "id": "ef793bca"
      },
      "source": [
        "#### 5.Handling missing values:\n",
        "\n"
      ]
    },
    {
      "cell_type": "code",
      "execution_count": null,
      "id": "b80edd02",
      "metadata": {
        "id": "b80edd02"
      },
      "outputs": [],
      "source": [
        " data.fillna(0)"
      ]
    },
    {
      "cell_type": "markdown",
      "id": "7f518e2e",
      "metadata": {
        "id": "7f518e2e"
      },
      "source": [
        "## 6. Outliers and handling them"
      ]
    },
    {
      "cell_type": "code",
      "execution_count": null,
      "id": "94df0569",
      "metadata": {
        "id": "94df0569"
      },
      "outputs": [],
      "source": [
        "sns.boxplot(data['Age'])"
      ]
    },
    {
      "cell_type": "code",
      "execution_count": null,
      "id": "76896d80",
      "metadata": {
        "id": "76896d80"
      },
      "outputs": [],
      "source": [
        "data['Age'].mean()"
      ]
    },
    {
      "cell_type": "code",
      "execution_count": null,
      "id": "57ab8be7",
      "metadata": {
        "id": "57ab8be7"
      },
      "outputs": [],
      "source": [
        "data['Age'] = np.where(data['Age'] > 57, 39, data['Age']) "
      ]
    },
    {
      "cell_type": "code",
      "execution_count": null,
      "id": "c9f63730",
      "metadata": {
        "id": "c9f63730"
      },
      "outputs": [],
      "source": [
        "sns.boxplot(data['Age'])"
      ]
    },
    {
      "cell_type": "code",
      "execution_count": null,
      "id": "2b75ed56",
      "metadata": {
        "id": "2b75ed56"
      },
      "outputs": [],
      "source": [
        "sns.boxplot(data['CreditScore'])"
      ]
    },
    {
      "cell_type": "code",
      "execution_count": null,
      "id": "49711c4d",
      "metadata": {
        "id": "49711c4d"
      },
      "outputs": [],
      "source": [
        "data['CreditScore'].mean()"
      ]
    },
    {
      "cell_type": "code",
      "execution_count": null,
      "id": "d6f82dcb",
      "metadata": {
        "id": "d6f82dcb"
      },
      "outputs": [],
      "source": [
        "data['CreditScore'] = np.where(data['CreditScore'] < 400, 650, data['CreditScore']) "
      ]
    },
    {
      "cell_type": "code",
      "execution_count": null,
      "id": "b956b37f",
      "metadata": {
        "id": "b956b37f"
      },
      "outputs": [],
      "source": [
        "sns.boxplot(data['CreditScore'])"
      ]
    },
    {
      "cell_type": "markdown",
      "id": "64830619",
      "metadata": {
        "id": "64830619"
      },
      "source": [
        "# 7. Encoding"
      ]
    },
    {
      "cell_type": "code",
      "execution_count": null,
      "id": "89c3d2ec",
      "metadata": {
        "id": "89c3d2ec"
      },
      "outputs": [],
      "source": [
        "from sklearn.preprocessing import LabelEncoder\n",
        "le = LabelEncoder()\n",
        "data['Surname'] = le.fit_transform(data['Surname'])\n",
        "data['Geography'] = le.fit_transform(data['Geography'])\n",
        "data['Gender'] = le.fit_transform(data['Gender'])\n",
        "data.head()\n"
      ]
    },
    {
      "cell_type": "markdown",
      "id": "e2a618d7",
      "metadata": {
        "id": "e2a618d7"
      },
      "source": [
        "# 8. Splitting the data"
      ]
    },
    {
      "cell_type": "code",
      "execution_count": null,
      "id": "0c40755b",
      "metadata": {
        "id": "0c40755b"
      },
      "outputs": [],
      "source": [
        "x = data.iloc[:, 0:4]"
      ]
    },
    {
      "cell_type": "code",
      "execution_count": null,
      "id": "5960a3dd",
      "metadata": {
        "id": "5960a3dd"
      },
      "outputs": [],
      "source": [
        "x"
      ]
    },
    {
      "cell_type": "code",
      "execution_count": null,
      "id": "109dc2df",
      "metadata": {
        "id": "109dc2df"
      },
      "outputs": [],
      "source": [
        "y = data['HasCrCard']"
      ]
    },
    {
      "cell_type": "code",
      "execution_count": null,
      "id": "e9f2bf4a",
      "metadata": {
        "id": "e9f2bf4a"
      },
      "outputs": [],
      "source": [
        "y"
      ]
    },
    {
      "cell_type": "markdown",
      "id": "e688dc62",
      "metadata": {
        "id": "e688dc62"
      },
      "source": [
        "# 9. Scaling the independant variables"
      ]
    },
    {
      "cell_type": "code",
      "execution_count": null,
      "id": "19bcabb7",
      "metadata": {
        "id": "19bcabb7"
      },
      "outputs": [],
      "source": [
        "from sklearn.preprocessing import StandardScaler, MinMaxScaler\n",
        "sc = StandardScaler()\n",
        "x_scaled = sc.fit_transform(x)"
      ]
    },
    {
      "cell_type": "code",
      "execution_count": null,
      "id": "1638555a",
      "metadata": {
        "id": "1638555a"
      },
      "outputs": [],
      "source": [
        "x_scaled"
      ]
    },
    {
      "cell_type": "markdown",
      "id": "cf6b10bd",
      "metadata": {
        "id": "cf6b10bd"
      },
      "source": [
        "# 10. Splitting into training and testing set"
      ]
    },
    {
      "cell_type": "code",
      "execution_count": null,
      "id": "9db7fa39",
      "metadata": {
        "id": "9db7fa39"
      },
      "outputs": [],
      "source": [
        "from sklearn.model_selection import train_test_split\n",
        "x_train, x_test, y_train, y_test = train_test_split(x_scaled, y, test_size = 0.3, random_state = 0) "
      ]
    },
    {
      "cell_type": "code",
      "execution_count": null,
      "id": "bc123e8e",
      "metadata": {
        "id": "bc123e8e"
      },
      "outputs": [],
      "source": [
        "x_train.shape"
      ]
    },
    {
      "cell_type": "code",
      "execution_count": null,
      "id": "5437849e",
      "metadata": {
        "id": "5437849e"
      },
      "outputs": [],
      "source": [
        "x_train"
      ]
    },
    {
      "cell_type": "code",
      "execution_count": null,
      "id": "e0059dc4",
      "metadata": {
        "id": "e0059dc4"
      },
      "outputs": [],
      "source": [
        "x_test.shape"
      ]
    },
    {
      "cell_type": "code",
      "execution_count": null,
      "id": "c2209edc",
      "metadata": {
        "id": "c2209edc"
      },
      "outputs": [],
      "source": [
        "x_test"
      ]
    },
    {
      "cell_type": "code",
      "execution_count": null,
      "id": "13da29f3",
      "metadata": {
        "id": "13da29f3"
      },
      "outputs": [],
      "source": [
        "y_train.shape"
      ]
    },
    {
      "cell_type": "code",
      "execution_count": null,
      "id": "35ea0a46",
      "metadata": {
        "id": "35ea0a46"
      },
      "outputs": [],
      "source": [
        "y_train"
      ]
    },
    {
      "cell_type": "code",
      "execution_count": null,
      "id": "10de3113",
      "metadata": {
        "id": "10de3113"
      },
      "outputs": [],
      "source": [
        "y_test.shape"
      ]
    },
    {
      "cell_type": "code",
      "execution_count": null,
      "id": "2c48f74d",
      "metadata": {
        "id": "2c48f74d"
      },
      "outputs": [],
      "source": [
        "y_test"
      ]
    }
  ],
  "metadata": {
    "kernelspec": {
      "display_name": "Python 3",
      "language": "python",
      "name": "python3"
    },
    "language_info": {
      "codemirror_mode": {
        "name": "ipython",
        "version": 3
      },
      "file_extension": ".py",
      "mimetype": "text/x-python",
      "name": "python",
      "nbconvert_exporter": "python",
      "pygments_lexer": "ipython3",
      "version": "3.8.8"
    },
    "colab": {
      "provenance": []
    }
  },
  "nbformat": 4,
  "nbformat_minor": 5
}